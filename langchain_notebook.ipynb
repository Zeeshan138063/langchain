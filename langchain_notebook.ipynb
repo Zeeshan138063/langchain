{
 "cells": [
  {
   "cell_type": "markdown",
   "metadata": {},
   "source": [
    "# LangChain NoteBook"
   ]
  },
  {
   "cell_type": "markdown",
   "metadata": {},
   "source": [
    "- `!pip install langchain`\n",
    "- `!pip install openapi`\n",
    "- `!pip install huggingface_hub`"
   ]
  },
  {
   "cell_type": "code",
   "execution_count": 18,
   "metadata": {},
   "outputs": [
    {
     "name": "stdout",
     "output_type": "stream",
     "text": [
      "\n",
      "\n",
      "Islamabad is the capital of Pakistan.\n"
     ]
    }
   ],
   "source": [
    "from langchain.llms import OpenAI\n",
    "import os\n",
    "os.environ['OPENAI_API_KEY'] = 'sk-'\n",
    "openai_llm = OpenAI(temperature=0.5) # temperature is the hyperparameter that controls the content\n",
    "# model_name ='text-davinic-003'\n",
    "text='what is the capital of Pakistan'\n",
    "print(openai_llm(text))"
   ]
  },
  {
   "cell_type": "markdown",
   "metadata": {},
   "source": [
    "# HuggingFace"
   ]
  },
  {
   "cell_type": "code",
   "execution_count": 2,
   "metadata": {},
   "outputs": [
    {
     "data": {
      "text/plain": [
       "': Comment êtes-vous ?'"
      ]
     },
     "execution_count": 2,
     "metadata": {},
     "output_type": "execute_result"
    }
   ],
   "source": [
    "from langchain import HuggingFaceHub\n",
    "import os\n",
    "os.environ['HUGGINGFACEHUB_API_TOKEN']=\"\"\n",
    "llm= HuggingFaceHub(repo_id=\"t5-base\", model_kwargs=dict(temperature=0.9,max_length=64))\n",
    "llm(\"translate English to French : How are you ?\")"
   ]
  }
 ],
 "metadata": {
  "kernelspec": {
   "display_name": ".venv",
   "language": "python",
   "name": "python3"
  },
  "language_info": {
   "codemirror_mode": {
    "name": "ipython",
    "version": 3
   },
   "file_extension": ".py",
   "mimetype": "text/x-python",
   "name": "python",
   "nbconvert_exporter": "python",
   "pygments_lexer": "ipython3",
   "version": "3.11.6"
  }
 },
 "nbformat": 4,
 "nbformat_minor": 2
}
